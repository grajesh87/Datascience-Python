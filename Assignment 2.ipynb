{
 "cells": [
  {
   "cell_type": "markdown",
   "id": "0ba00e4c",
   "metadata": {},
   "source": [
    "# 1.Program "
   ]
  },
  {
   "cell_type": "code",
   "execution_count": 11,
   "id": "034c936f",
   "metadata": {},
   "outputs": [
    {
     "name": "stdout",
     "output_type": "stream",
     "text": [
      "Enter the first number:100\n",
      "Enter the second number:500\n"
     ]
    }
   ],
   "source": [
    "x=int(input(\"Enter the first number:\"))\n",
    "y=int(input(\"Enter the second number:\"))\n",
    "def add(a,b):\n",
    "    print(\"Addition of two number\")\n",
    "    c=a+b\n",
    "    return c\n"
   ]
  },
  {
   "cell_type": "code",
   "execution_count": 12,
   "id": "1f5e663d",
   "metadata": {},
   "outputs": [
    {
     "name": "stdout",
     "output_type": "stream",
     "text": [
      "Addition of two number\n"
     ]
    },
    {
     "data": {
      "text/plain": [
       "600"
      ]
     },
     "execution_count": 12,
     "metadata": {},
     "output_type": "execute_result"
    }
   ],
   "source": [
    "add(x,y)"
   ]
  },
  {
   "cell_type": "markdown",
   "id": "70a08784",
   "metadata": {},
   "source": [
    "# 2.Program"
   ]
  },
  {
   "cell_type": "code",
   "execution_count": 1,
   "id": "d68951a3",
   "metadata": {
    "scrolled": true
   },
   "outputs": [
    {
     "name": "stdout",
     "output_type": "stream",
     "text": [
      "Enter the first number:5\n",
      "Enter the second number:rajesh\n"
     ]
    },
    {
     "ename": "ValueError",
     "evalue": "invalid literal for int() with base 10: 'rajesh'",
     "output_type": "error",
     "traceback": [
      "\u001b[1;31m---------------------------------------------------------------------------\u001b[0m",
      "\u001b[1;31mValueError\u001b[0m                                Traceback (most recent call last)",
      "\u001b[1;32mC:\\Users\\RAJESH~1\\AppData\\Local\\Temp/ipykernel_27084/329116946.py\u001b[0m in \u001b[0;36m<module>\u001b[1;34m\u001b[0m\n\u001b[0;32m      1\u001b[0m \u001b[0mx\u001b[0m\u001b[1;33m=\u001b[0m\u001b[0mstr\u001b[0m\u001b[1;33m(\u001b[0m\u001b[0minput\u001b[0m\u001b[1;33m(\u001b[0m\u001b[1;34m\"Enter the first number:\"\u001b[0m\u001b[1;33m)\u001b[0m\u001b[1;33m)\u001b[0m\u001b[1;33m\u001b[0m\u001b[1;33m\u001b[0m\u001b[0m\n\u001b[1;32m----> 2\u001b[1;33m \u001b[0my\u001b[0m\u001b[1;33m=\u001b[0m\u001b[0mint\u001b[0m\u001b[1;33m(\u001b[0m\u001b[0minput\u001b[0m\u001b[1;33m(\u001b[0m\u001b[1;34m\"Enter the second number:\"\u001b[0m\u001b[1;33m)\u001b[0m\u001b[1;33m)\u001b[0m\u001b[1;33m\u001b[0m\u001b[1;33m\u001b[0m\u001b[0m\n\u001b[0m\u001b[0;32m      3\u001b[0m \u001b[1;32mdef\u001b[0m \u001b[0madd\u001b[0m\u001b[1;33m(\u001b[0m\u001b[0ma\u001b[0m\u001b[1;33m,\u001b[0m\u001b[0mb\u001b[0m\u001b[1;33m)\u001b[0m\u001b[1;33m:\u001b[0m\u001b[1;33m\u001b[0m\u001b[1;33m\u001b[0m\u001b[0m\n\u001b[0;32m      4\u001b[0m     \u001b[0mprint\u001b[0m\u001b[1;33m(\u001b[0m\u001b[1;34m\"Addition of two number\"\u001b[0m\u001b[1;33m)\u001b[0m\u001b[1;33m\u001b[0m\u001b[1;33m\u001b[0m\u001b[0m\n\u001b[0;32m      5\u001b[0m     \u001b[0mc\u001b[0m\u001b[1;33m=\u001b[0m\u001b[0ma\u001b[0m\u001b[1;33m+\u001b[0m\u001b[0mb\u001b[0m\u001b[1;33m\u001b[0m\u001b[1;33m\u001b[0m\u001b[0m\n",
      "\u001b[1;31mValueError\u001b[0m: invalid literal for int() with base 10: 'rajesh'"
     ]
    }
   ],
   "source": [
    "x=str(input(\"Enter the first number:\"))\n",
    "y=int(input(\"Enter the second number:\"))\n",
    "def add(a,b):\n",
    "    print(\"Addition of two number\")\n",
    "    c=a+b\n",
    "    return c"
   ]
  },
  {
   "cell_type": "code",
   "execution_count": 2,
   "id": "54b08535",
   "metadata": {},
   "outputs": [
    {
     "ename": "NameError",
     "evalue": "name 'add' is not defined",
     "output_type": "error",
     "traceback": [
      "\u001b[1;31m---------------------------------------------------------------------------\u001b[0m",
      "\u001b[1;31mNameError\u001b[0m                                 Traceback (most recent call last)",
      "\u001b[1;32mC:\\Users\\RAJESH~1\\AppData\\Local\\Temp/ipykernel_27084/1425852325.py\u001b[0m in \u001b[0;36m<module>\u001b[1;34m\u001b[0m\n\u001b[1;32m----> 1\u001b[1;33m \u001b[0madd\u001b[0m\u001b[1;33m(\u001b[0m\u001b[0mx\u001b[0m\u001b[1;33m,\u001b[0m\u001b[0my\u001b[0m\u001b[1;33m)\u001b[0m\u001b[1;33m\u001b[0m\u001b[1;33m\u001b[0m\u001b[0m\n\u001b[0m",
      "\u001b[1;31mNameError\u001b[0m: name 'add' is not defined"
     ]
    }
   ],
   "source": [
    "add(x,y)"
   ]
  },
  {
   "cell_type": "markdown",
   "id": "4fb441ca",
   "metadata": {},
   "source": [
    "# 3. Program"
   ]
  },
  {
   "cell_type": "code",
   "execution_count": 12,
   "id": "cc6149c9",
   "metadata": {
    "scrolled": true
   },
   "outputs": [
    {
     "name": "stdout",
     "output_type": "stream",
     "text": [
      "full letter: D\n",
      "full letter: a\n",
      "full letter: t\n",
      "full letter: a\n",
      "full letter:  \n",
      "The letter should be: S\n"
     ]
    }
   ],
   "source": [
    "str = list ('Data Science')\n",
    "for i in str :\n",
    "    if (i.upper() in 'S'):\n",
    "        print('The letter should be:' ,i )\n",
    "        break\n",
    "    else:\n",
    "        print('full letter:',i)\n",
    "\n"
   ]
  },
  {
   "cell_type": "markdown",
   "id": "e2ae5952",
   "metadata": {},
   "source": [
    "# 4. Program"
   ]
  },
  {
   "cell_type": "code",
   "execution_count": 14,
   "id": "291c4759",
   "metadata": {},
   "outputs": [
    {
     "name": "stdout",
     "output_type": "stream",
     "text": [
      "[1, 2, 3, 4, 5, 6, 7, 8, 9, 10, 1]\n"
     ]
    }
   ],
   "source": [
    "newlist = [1,2,3,4,5,6,7,8,9,10,1]\n",
    "type(newlist)\n",
    "print(newlist)"
   ]
  },
  {
   "cell_type": "code",
   "execution_count": 29,
   "id": "d3d2674a",
   "metadata": {},
   "outputs": [],
   "source": [
    "def funtion1(x):\n",
    "    \"\"\"Comparing list of Number\"\"\"\n",
    "    if(x[0] == x[-1]):\n",
    "        print(\"true\")\n",
    "    else:\n",
    "        print(\"false\")"
   ]
  },
  {
   "cell_type": "code",
   "execution_count": 30,
   "id": "a5286fca",
   "metadata": {
    "scrolled": false
   },
   "outputs": [
    {
     "name": "stdout",
     "output_type": "stream",
     "text": [
      "Comparing list of Number\n",
      "true\n"
     ]
    }
   ],
   "source": [
    "print(funtion1.__doc__)\n",
    "funtion1(newlist)\n"
   ]
  },
  {
   "cell_type": "markdown",
   "id": "778a6926",
   "metadata": {},
   "source": [
    "# 5.Program"
   ]
  },
  {
   "cell_type": "code",
   "execution_count": 38,
   "id": "19a63d80",
   "metadata": {},
   "outputs": [],
   "source": [
    "list1 = [10,20,33,46,55]\n",
    "def iterate(x):\n",
    "    for i in list1:\n",
    "        if (i%5 == 0):\n",
    "            print(i)\n",
    "        \n",
    "    print(\"the number are divisble by 5\")"
   ]
  },
  {
   "cell_type": "code",
   "execution_count": 39,
   "id": "5ee6acd5",
   "metadata": {},
   "outputs": [
    {
     "name": "stdout",
     "output_type": "stream",
     "text": [
      "10\n",
      "20\n",
      "55\n",
      "the number are divisble by 5\n"
     ]
    }
   ],
   "source": [
    "iterate(list1)"
   ]
  },
  {
   "cell_type": "markdown",
   "id": "b8181164",
   "metadata": {},
   "source": [
    "# 6. Program"
   ]
  },
  {
   "cell_type": "code",
   "execution_count": 5,
   "id": "dfe190d4",
   "metadata": {},
   "outputs": [
    {
     "name": "stdout",
     "output_type": "stream",
     "text": [
      "Enter the first Number300\n",
      "Enter the second Number 100\n"
     ]
    }
   ],
   "source": [
    "x=int(input(\"Enter the first Number\"))\n",
    "y=int(input(\"Enter the second Number \"))\n",
    "def calculation(a,b):\n",
    "    \"\"\"Addition and subtraction are there in same function calculation\"\"\"\n",
    "    \n",
    "    c=a+b\n",
    "    d=a-b\n",
    "    print(\"The values of Addition and Subtraction:\", c,d)\n",
    "    return c,d\n"
   ]
  },
  {
   "cell_type": "code",
   "execution_count": 6,
   "id": "09d03f56",
   "metadata": {},
   "outputs": [
    {
     "name": "stdout",
     "output_type": "stream",
     "text": [
      "The values of Addition and Subtraction: 400 200\n",
      "Addition and subtraction are there in same function calculation\n"
     ]
    }
   ],
   "source": [
    "calculation(x,y)\n",
    "print(calculation.__doc__)"
   ]
  },
  {
   "cell_type": "markdown",
   "id": "7ad28bf3",
   "metadata": {},
   "source": [
    "# 7. Program"
   ]
  },
  {
   "cell_type": "markdown",
   "id": "1f719688",
   "metadata": {},
   "source": [
    "### Non Default arguments  follows Default argument"
   ]
  },
  {
   "cell_type": "code",
   "execution_count": 41,
   "id": "97e759a5",
   "metadata": {},
   "outputs": [
    {
     "ename": "SyntaxError",
     "evalue": "non-default argument follows default argument (Temp/ipykernel_58220/3217472872.py, line 1)",
     "output_type": "error",
     "traceback": [
      "\u001b[1;36m  File \u001b[1;32m\"C:\\Users\\RAJESH~1\\AppData\\Local\\Temp/ipykernel_58220/3217472872.py\"\u001b[1;36m, line \u001b[1;32m1\u001b[0m\n\u001b[1;33m    def twoargs(arg2=5,arg1):\u001b[0m\n\u001b[1;37m                           ^\u001b[0m\n\u001b[1;31mSyntaxError\u001b[0m\u001b[1;31m:\u001b[0m non-default argument follows default argument\n"
     ]
    }
   ],
   "source": [
    "def twoargs(arg2=5,arg1):\n",
    "    print(\"The argument passing :\",arg1,arg2)\n",
    "    \n",
    "        \n",
    "     \n",
    "    "
   ]
  },
  {
   "cell_type": "code",
   "execution_count": 42,
   "id": "81b4c9c5",
   "metadata": {},
   "outputs": [
    {
     "ename": "NameError",
     "evalue": "name 'arg2' is not defined",
     "output_type": "error",
     "traceback": [
      "\u001b[1;31m---------------------------------------------------------------------------\u001b[0m",
      "\u001b[1;31mNameError\u001b[0m                                 Traceback (most recent call last)",
      "\u001b[1;32mC:\\Users\\RAJESH~1\\AppData\\Local\\Temp/ipykernel_58220/3551891053.py\u001b[0m in \u001b[0;36m<module>\u001b[1;34m\u001b[0m\n\u001b[1;32m----> 1\u001b[1;33m \u001b[0mtwoargs\u001b[0m\u001b[1;33m(\u001b[0m\u001b[1;36m50\u001b[0m\u001b[1;33m,\u001b[0m\u001b[0marg2\u001b[0m\u001b[1;33m)\u001b[0m\u001b[1;33m\u001b[0m\u001b[1;33m\u001b[0m\u001b[0m\n\u001b[0m",
      "\u001b[1;31mNameError\u001b[0m: name 'arg2' is not defined"
     ]
    }
   ],
   "source": [
    "twoargs(50,arg2)"
   ]
  },
  {
   "cell_type": "markdown",
   "id": "4f881ddf",
   "metadata": {},
   "source": [
    "# 8.Program"
   ]
  },
  {
   "cell_type": "markdown",
   "id": "d92b6cd4",
   "metadata": {},
   "source": [
    "#### Recursion Means: calling function by itself"
   ]
  },
  {
   "cell_type": "code",
   "execution_count": 19,
   "id": "6ac8af3d",
   "metadata": {
    "scrolled": true
   },
   "outputs": [
    {
     "name": "stdout",
     "output_type": "stream",
     "text": [
      "Fibonacci series:\n",
      "0\n",
      "1\n",
      "1\n",
      "2\n",
      "3\n",
      "5\n",
      "8\n",
      "13\n",
      "21\n",
      "34\n"
     ]
    }
   ],
   "source": [
    "def recursive_fibonacci(n):\n",
    "   if n <= 1:\n",
    "       return n\n",
    "   else:\n",
    "       return(recursive_fibonacci(n-1) + recursive_fibonacci(n-2))\n",
    "   \n",
    "n_terms = 10\n",
    "   \n",
    "# check if the number of terms is valid\n",
    "if n_terms <= 0:\n",
    "   print(\"Invalid input ! Please input a positive value\")\n",
    "else:\n",
    "   print(\"Fibonacci series:\")\n",
    "   for i in range(n_terms):\n",
    "       print(recursive_fibonacci(i))"
   ]
  },
  {
   "cell_type": "markdown",
   "id": "56c3fc57",
   "metadata": {},
   "source": [
    "# 9. Program"
   ]
  },
  {
   "cell_type": "markdown",
   "id": "96b7925f",
   "metadata": {},
   "source": [
    "###### use filter and lambda calculate square"
   ]
  },
  {
   "cell_type": "code",
   "execution_count": 24,
   "id": "95d7f092",
   "metadata": {},
   "outputs": [
    {
     "data": {
      "text/plain": [
       "[12, 11, 53, 22, 21, 77, 87, 88, 98]"
      ]
     },
     "execution_count": 24,
     "metadata": {},
     "output_type": "execute_result"
    }
   ],
   "source": [
    "l1=[12, 11, 53, 22, 21, 77, 87, 88, 98]\n",
    "l1"
   ]
  },
  {
   "cell_type": "code",
   "execution_count": 45,
   "id": "3d5ae9b7",
   "metadata": {},
   "outputs": [
    {
     "name": "stdout",
     "output_type": "stream",
     "text": [
      "[121, 2809, 441, 5929, 7569]\n"
     ]
    }
   ],
   "source": [
    "l2= list(filter(lambda x:x%2 == 1,l1))\n",
    "l3=list(map(lambda x:x*x, l2))\n",
    "print(l3)\n"
   ]
  },
  {
   "cell_type": "markdown",
   "id": "1f35ca28",
   "metadata": {},
   "source": [
    "# 10. Program"
   ]
  },
  {
   "cell_type": "markdown",
   "id": "2359fe5b",
   "metadata": {},
   "source": [
    "###### using map funtion we write the program"
   ]
  },
  {
   "cell_type": "code",
   "execution_count": 1,
   "id": "3226333c",
   "metadata": {},
   "outputs": [
    {
     "name": "stdout",
     "output_type": "stream",
     "text": [
      "['Rajesh', 'Ramesh', 'Divya', 'Siva']\n"
     ]
    }
   ],
   "source": [
    "newlist=['Rajesh','Ramesh','Divya','Siva']\n",
    "print(newlist)"
   ]
  },
  {
   "cell_type": "code",
   "execution_count": 8,
   "id": "228a3f25",
   "metadata": {
    "scrolled": true
   },
   "outputs": [
    {
     "name": "stdout",
     "output_type": "stream",
     "text": [
      "[9, 11, 13, 15]\n"
     ]
    }
   ],
   "source": [
    "newlist1=[2,3,4,5,6]\n",
    "newlist2=[7,8,9,10]\n",
    "newlist3=list(map(lambda x,y:x+y, newlist1,newlist2))\n",
    "print(newlist3)\n"
   ]
  },
  {
   "cell_type": "code",
   "execution_count": null,
   "id": "4f8211fb",
   "metadata": {},
   "outputs": [],
   "source": []
  }
 ],
 "metadata": {
  "kernelspec": {
   "display_name": "Python 3 (ipykernel)",
   "language": "python",
   "name": "python3"
  },
  "language_info": {
   "codemirror_mode": {
    "name": "ipython",
    "version": 3
   },
   "file_extension": ".py",
   "mimetype": "text/x-python",
   "name": "python",
   "nbconvert_exporter": "python",
   "pygments_lexer": "ipython3",
   "version": "3.9.7"
  }
 },
 "nbformat": 4,
 "nbformat_minor": 5
}
