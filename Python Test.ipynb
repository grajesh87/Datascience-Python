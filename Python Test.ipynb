{
 "cells": [
  {
   "cell_type": "markdown",
   "id": "3c5be079",
   "metadata": {},
   "source": [
    "## 1. Create a program that asks the user to enter their name and their age. Print out a message that tells them the year that they will turn 100 years old"
   ]
  },
  {
   "cell_type": "code",
   "execution_count": 1,
   "id": "75475ec4",
   "metadata": {},
   "outputs": [
    {
     "name": "stdout",
     "output_type": "stream",
     "text": [
      "What is your name? \n",
      "Rajesh\n",
      "How old are you? \n",
      "34\n",
      "Hello Rajesh. You are 34 years old. You will turn 100 years old in 2088.\n"
     ]
    }
   ],
   "source": [
    "from datetime import datetime\n",
    "name = input('What is your name? \\n')\n",
    "age = int(input('How old are you? \\n'))\n",
    "hundred = int((100-age) + datetime.now().year)\n",
    "print ('Hello %s. You are %s years old. You will turn 100 years old in %s.' % (name, age, hundred))"
   ]
  },
  {
   "cell_type": "markdown",
   "id": "b9ca7d1e",
   "metadata": {},
   "source": [
    "# 2.What is pandas groupby? Demonstrate with your own example"
   ]
  },
  {
   "cell_type": "markdown",
   "id": "5757db15",
   "metadata": {},
   "source": [
    "###### 1.Group by is an aggregate function which is used to do sum , mean, median ,standard deviation, min ,max calculation to find the value of group"
   ]
  },
  {
   "cell_type": "code",
   "execution_count": 6,
   "id": "8389c7cc",
   "metadata": {},
   "outputs": [],
   "source": [
    "import pandas as pd\n",
    "import numpy as np\n"
   ]
  },
  {
   "cell_type": "code",
   "execution_count": 26,
   "id": "61649858",
   "metadata": {},
   "outputs": [],
   "source": [
    "import warnings\n",
    "warnings.filterwarnings('ignore')"
   ]
  },
  {
   "cell_type": "code",
   "execution_count": 13,
   "id": "57e324c0",
   "metadata": {
    "scrolled": true
   },
   "outputs": [
    {
     "data": {
      "text/html": [
       "<div>\n",
       "<style scoped>\n",
       "    .dataframe tbody tr th:only-of-type {\n",
       "        vertical-align: middle;\n",
       "    }\n",
       "\n",
       "    .dataframe tbody tr th {\n",
       "        vertical-align: top;\n",
       "    }\n",
       "\n",
       "    .dataframe thead th {\n",
       "        text-align: right;\n",
       "    }\n",
       "</style>\n",
       "<table border=\"1\" class=\"dataframe\">\n",
       "  <thead>\n",
       "    <tr style=\"text-align: right;\">\n",
       "      <th></th>\n",
       "      <th>cust id</th>\n",
       "      <th>Cust Name</th>\n",
       "      <th>Salary</th>\n",
       "    </tr>\n",
       "  </thead>\n",
       "  <tbody>\n",
       "    <tr>\n",
       "      <th>0</th>\n",
       "      <td>25</td>\n",
       "      <td>Rajesh</td>\n",
       "      <td>3000</td>\n",
       "    </tr>\n",
       "    <tr>\n",
       "      <th>1</th>\n",
       "      <td>26</td>\n",
       "      <td>Ramesh</td>\n",
       "      <td>5000</td>\n",
       "    </tr>\n",
       "    <tr>\n",
       "      <th>2</th>\n",
       "      <td>25</td>\n",
       "      <td>Murali</td>\n",
       "      <td>2500</td>\n",
       "    </tr>\n",
       "    <tr>\n",
       "      <th>3</th>\n",
       "      <td>23</td>\n",
       "      <td>Vinoth</td>\n",
       "      <td>7800</td>\n",
       "    </tr>\n",
       "    <tr>\n",
       "      <th>4</th>\n",
       "      <td>30</td>\n",
       "      <td>Selva</td>\n",
       "      <td>6000</td>\n",
       "    </tr>\n",
       "  </tbody>\n",
       "</table>\n",
       "</div>"
      ],
      "text/plain": [
       "   cust id  Cust Name  Salary\n",
       "0       25     Rajesh    3000\n",
       "1       26     Ramesh    5000\n",
       "2       25     Murali    2500\n",
       "3       23     Vinoth    7800\n",
       "4       30      Selva    6000"
      ]
     },
     "execution_count": 13,
     "metadata": {},
     "output_type": "execute_result"
    }
   ],
   "source": [
    "Test_data = {'cust id':[25,26,25,23,30],' Cust Name':['Rajesh','Ramesh','Murali','Vinoth','Selva'],'Salary':[3000,5000,2500,7800,6000]}\n",
    "Test_data1 = pd.DataFrame(Test_data)\n",
    "Test_data1"
   ]
  },
  {
   "cell_type": "code",
   "execution_count": 20,
   "id": "5ecdd047",
   "metadata": {},
   "outputs": [],
   "source": [
    "Test_data1['Bonus'] = pd.Series([1000,5000,4000,2000,1500])"
   ]
  },
  {
   "cell_type": "code",
   "execution_count": 21,
   "id": "02737d8f",
   "metadata": {},
   "outputs": [
    {
     "data": {
      "text/html": [
       "<div>\n",
       "<style scoped>\n",
       "    .dataframe tbody tr th:only-of-type {\n",
       "        vertical-align: middle;\n",
       "    }\n",
       "\n",
       "    .dataframe tbody tr th {\n",
       "        vertical-align: top;\n",
       "    }\n",
       "\n",
       "    .dataframe thead th {\n",
       "        text-align: right;\n",
       "    }\n",
       "</style>\n",
       "<table border=\"1\" class=\"dataframe\">\n",
       "  <thead>\n",
       "    <tr style=\"text-align: right;\">\n",
       "      <th></th>\n",
       "      <th>cust id</th>\n",
       "      <th>Cust Name</th>\n",
       "      <th>Salary</th>\n",
       "      <th>Bonus</th>\n",
       "    </tr>\n",
       "  </thead>\n",
       "  <tbody>\n",
       "    <tr>\n",
       "      <th>0</th>\n",
       "      <td>25</td>\n",
       "      <td>Rajesh</td>\n",
       "      <td>3000</td>\n",
       "      <td>1000</td>\n",
       "    </tr>\n",
       "    <tr>\n",
       "      <th>1</th>\n",
       "      <td>26</td>\n",
       "      <td>Ramesh</td>\n",
       "      <td>5000</td>\n",
       "      <td>5000</td>\n",
       "    </tr>\n",
       "    <tr>\n",
       "      <th>2</th>\n",
       "      <td>25</td>\n",
       "      <td>Murali</td>\n",
       "      <td>2500</td>\n",
       "      <td>4000</td>\n",
       "    </tr>\n",
       "    <tr>\n",
       "      <th>3</th>\n",
       "      <td>23</td>\n",
       "      <td>Vinoth</td>\n",
       "      <td>7800</td>\n",
       "      <td>2000</td>\n",
       "    </tr>\n",
       "    <tr>\n",
       "      <th>4</th>\n",
       "      <td>30</td>\n",
       "      <td>Selva</td>\n",
       "      <td>6000</td>\n",
       "      <td>1500</td>\n",
       "    </tr>\n",
       "  </tbody>\n",
       "</table>\n",
       "</div>"
      ],
      "text/plain": [
       "   cust id  Cust Name  Salary  Bonus\n",
       "0       25     Rajesh    3000   1000\n",
       "1       26     Ramesh    5000   5000\n",
       "2       25     Murali    2500   4000\n",
       "3       23     Vinoth    7800   2000\n",
       "4       30      Selva    6000   1500"
      ]
     },
     "execution_count": 21,
     "metadata": {},
     "output_type": "execute_result"
    }
   ],
   "source": [
    "Test_data1"
   ]
  },
  {
   "cell_type": "code",
   "execution_count": 17,
   "id": "e60bb841",
   "metadata": {},
   "outputs": [
    {
     "data": {
      "text/plain": [
       "cust id\n",
       "23    7800\n",
       "25    5500\n",
       "26    5000\n",
       "30    6000\n",
       "Name: Salary, dtype: int64"
      ]
     },
     "execution_count": 17,
     "metadata": {},
     "output_type": "execute_result"
    }
   ],
   "source": [
    "Test_data1.groupby(['cust id'])['Salary'].sum()"
   ]
  },
  {
   "cell_type": "code",
   "execution_count": 27,
   "id": "05a190e9",
   "metadata": {},
   "outputs": [
    {
     "data": {
      "text/html": [
       "<div>\n",
       "<style scoped>\n",
       "    .dataframe tbody tr th:only-of-type {\n",
       "        vertical-align: middle;\n",
       "    }\n",
       "\n",
       "    .dataframe tbody tr th {\n",
       "        vertical-align: top;\n",
       "    }\n",
       "\n",
       "    .dataframe thead th {\n",
       "        text-align: right;\n",
       "    }\n",
       "</style>\n",
       "<table border=\"1\" class=\"dataframe\">\n",
       "  <thead>\n",
       "    <tr style=\"text-align: right;\">\n",
       "      <th></th>\n",
       "      <th>Salary</th>\n",
       "      <th>Bonus</th>\n",
       "    </tr>\n",
       "    <tr>\n",
       "      <th>cust id</th>\n",
       "      <th></th>\n",
       "      <th></th>\n",
       "    </tr>\n",
       "  </thead>\n",
       "  <tbody>\n",
       "    <tr>\n",
       "      <th>23</th>\n",
       "      <td>7800.0</td>\n",
       "      <td>2000.0</td>\n",
       "    </tr>\n",
       "    <tr>\n",
       "      <th>25</th>\n",
       "      <td>2750.0</td>\n",
       "      <td>2500.0</td>\n",
       "    </tr>\n",
       "    <tr>\n",
       "      <th>26</th>\n",
       "      <td>5000.0</td>\n",
       "      <td>5000.0</td>\n",
       "    </tr>\n",
       "    <tr>\n",
       "      <th>30</th>\n",
       "      <td>6000.0</td>\n",
       "      <td>1500.0</td>\n",
       "    </tr>\n",
       "  </tbody>\n",
       "</table>\n",
       "</div>"
      ],
      "text/plain": [
       "         Salary   Bonus\n",
       "cust id                \n",
       "23       7800.0  2000.0\n",
       "25       2750.0  2500.0\n",
       "26       5000.0  5000.0\n",
       "30       6000.0  1500.0"
      ]
     },
     "execution_count": 27,
     "metadata": {},
     "output_type": "execute_result"
    }
   ],
   "source": [
    "Test_data1.groupby(['cust id'])['Salary','Bonus'].mean()"
   ]
  },
  {
   "cell_type": "markdown",
   "id": "805ece99",
   "metadata": {},
   "source": [
    "# 3. How to create a dataframe from list?\n",
    "       1. By using series we can create a list \n",
    "       2. by using dictonary we can create list to convert list as dataframe\n",
    "       2. By using columns we can create list , reindex we can alter list of index"
   ]
  },
  {
   "cell_type": "code",
   "execution_count": 28,
   "id": "5bc771bd",
   "metadata": {},
   "outputs": [
    {
     "data": {
      "text/html": [
       "<div>\n",
       "<style scoped>\n",
       "    .dataframe tbody tr th:only-of-type {\n",
       "        vertical-align: middle;\n",
       "    }\n",
       "\n",
       "    .dataframe tbody tr th {\n",
       "        vertical-align: top;\n",
       "    }\n",
       "\n",
       "    .dataframe thead th {\n",
       "        text-align: right;\n",
       "    }\n",
       "</style>\n",
       "<table border=\"1\" class=\"dataframe\">\n",
       "  <thead>\n",
       "    <tr style=\"text-align: right;\">\n",
       "      <th></th>\n",
       "      <th>cust id</th>\n",
       "      <th>Cust Name</th>\n",
       "      <th>Salary</th>\n",
       "    </tr>\n",
       "  </thead>\n",
       "  <tbody>\n",
       "    <tr>\n",
       "      <th>0</th>\n",
       "      <td>25</td>\n",
       "      <td>Rajesh</td>\n",
       "      <td>3000</td>\n",
       "    </tr>\n",
       "    <tr>\n",
       "      <th>1</th>\n",
       "      <td>26</td>\n",
       "      <td>Ramesh</td>\n",
       "      <td>5000</td>\n",
       "    </tr>\n",
       "    <tr>\n",
       "      <th>2</th>\n",
       "      <td>25</td>\n",
       "      <td>Murali</td>\n",
       "      <td>2500</td>\n",
       "    </tr>\n",
       "    <tr>\n",
       "      <th>3</th>\n",
       "      <td>23</td>\n",
       "      <td>Vinoth</td>\n",
       "      <td>7800</td>\n",
       "    </tr>\n",
       "    <tr>\n",
       "      <th>4</th>\n",
       "      <td>30</td>\n",
       "      <td>Selva</td>\n",
       "      <td>6000</td>\n",
       "    </tr>\n",
       "  </tbody>\n",
       "</table>\n",
       "</div>"
      ],
      "text/plain": [
       "   cust id  Cust Name  Salary\n",
       "0       25     Rajesh    3000\n",
       "1       26     Ramesh    5000\n",
       "2       25     Murali    2500\n",
       "3       23     Vinoth    7800\n",
       "4       30      Selva    6000"
      ]
     },
     "execution_count": 28,
     "metadata": {},
     "output_type": "execute_result"
    }
   ],
   "source": [
    "Test_data = {'cust id':[25,26,25,23,30],' Cust Name':['Rajesh','Ramesh','Murali','Vinoth','Selva'],'Salary':[3000,5000,2500,7800,6000]}\n",
    "Test_data1 = pd.DataFrame(Test_data)\n",
    "Test_data1"
   ]
  },
  {
   "cell_type": "markdown",
   "id": "4ff383ee",
   "metadata": {},
   "source": [
    "# 4.What are the ways to combine the dataframe in pandas. Give an example for each\n",
    "   1. By using merge \n",
    "   2. By using concat"
   ]
  },
  {
   "cell_type": "code",
   "execution_count": 29,
   "id": "a4292741",
   "metadata": {},
   "outputs": [
    {
     "data": {
      "text/html": [
       "<div>\n",
       "<style scoped>\n",
       "    .dataframe tbody tr th:only-of-type {\n",
       "        vertical-align: middle;\n",
       "    }\n",
       "\n",
       "    .dataframe tbody tr th {\n",
       "        vertical-align: top;\n",
       "    }\n",
       "\n",
       "    .dataframe thead th {\n",
       "        text-align: right;\n",
       "    }\n",
       "</style>\n",
       "<table border=\"1\" class=\"dataframe\">\n",
       "  <thead>\n",
       "    <tr style=\"text-align: right;\">\n",
       "      <th></th>\n",
       "      <th>id</th>\n",
       "      <th>Name</th>\n",
       "      <th>Subject</th>\n",
       "    </tr>\n",
       "  </thead>\n",
       "  <tbody>\n",
       "    <tr>\n",
       "      <th>0</th>\n",
       "      <td>1</td>\n",
       "      <td>Tom</td>\n",
       "      <td>CSA</td>\n",
       "    </tr>\n",
       "    <tr>\n",
       "      <th>1</th>\n",
       "      <td>2</td>\n",
       "      <td>James</td>\n",
       "      <td>Telegu</td>\n",
       "    </tr>\n",
       "    <tr>\n",
       "      <th>2</th>\n",
       "      <td>3</td>\n",
       "      <td>Ricky</td>\n",
       "      <td>Maths</td>\n",
       "    </tr>\n",
       "    <tr>\n",
       "      <th>3</th>\n",
       "      <td>4</td>\n",
       "      <td>Vim</td>\n",
       "      <td>Chemistry</td>\n",
       "    </tr>\n",
       "    <tr>\n",
       "      <th>4</th>\n",
       "      <td>5</td>\n",
       "      <td>Steve</td>\n",
       "      <td>Physics</td>\n",
       "    </tr>\n",
       "    <tr>\n",
       "      <th>5</th>\n",
       "      <td>6</td>\n",
       "      <td>Smith</td>\n",
       "      <td>Botany</td>\n",
       "    </tr>\n",
       "    <tr>\n",
       "      <th>6</th>\n",
       "      <td>7</td>\n",
       "      <td>Jack</td>\n",
       "      <td>zeology</td>\n",
       "    </tr>\n",
       "  </tbody>\n",
       "</table>\n",
       "</div>"
      ],
      "text/plain": [
       "   id   Name    Subject\n",
       "0   1    Tom        CSA\n",
       "1   2  James     Telegu\n",
       "2   3  Ricky      Maths\n",
       "3   4    Vim  Chemistry\n",
       "4   5  Steve    Physics\n",
       "5   6  Smith     Botany\n",
       "6   7   Jack    zeology"
      ]
     },
     "execution_count": 29,
     "metadata": {},
     "output_type": "execute_result"
    }
   ],
   "source": [
    "data_left= {'id':[1,2,3,4,5,6,7],'Name':['Tom','James','Ricky','Vim','Steve','Smith','Jack'],\n",
    "        'Subject':['CSA','Telegu','Maths','Chemistry','Physics','Botany','zeology']}\n",
    "df2=pd.DataFrame(data_left)\n",
    "df2"
   ]
  },
  {
   "cell_type": "code",
   "execution_count": 30,
   "id": "9b64f675",
   "metadata": {},
   "outputs": [
    {
     "data": {
      "text/html": [
       "<div>\n",
       "<style scoped>\n",
       "    .dataframe tbody tr th:only-of-type {\n",
       "        vertical-align: middle;\n",
       "    }\n",
       "\n",
       "    .dataframe tbody tr th {\n",
       "        vertical-align: top;\n",
       "    }\n",
       "\n",
       "    .dataframe thead th {\n",
       "        text-align: right;\n",
       "    }\n",
       "</style>\n",
       "<table border=\"1\" class=\"dataframe\">\n",
       "  <thead>\n",
       "    <tr style=\"text-align: right;\">\n",
       "      <th></th>\n",
       "      <th>id</th>\n",
       "      <th>Name</th>\n",
       "      <th>Subject</th>\n",
       "    </tr>\n",
       "  </thead>\n",
       "  <tbody>\n",
       "    <tr>\n",
       "      <th>0</th>\n",
       "      <td>1</td>\n",
       "      <td>Rajesh</td>\n",
       "      <td>Telegu</td>\n",
       "    </tr>\n",
       "    <tr>\n",
       "      <th>1</th>\n",
       "      <td>2</td>\n",
       "      <td>Ramesh</td>\n",
       "      <td>Tamil</td>\n",
       "    </tr>\n",
       "    <tr>\n",
       "      <th>2</th>\n",
       "      <td>3</td>\n",
       "      <td>Ricky</td>\n",
       "      <td>Maths</td>\n",
       "    </tr>\n",
       "    <tr>\n",
       "      <th>3</th>\n",
       "      <td>4</td>\n",
       "      <td>Vim</td>\n",
       "      <td>Physics</td>\n",
       "    </tr>\n",
       "    <tr>\n",
       "      <th>4</th>\n",
       "      <td>5</td>\n",
       "      <td>Murali</td>\n",
       "      <td>Chemistry</td>\n",
       "    </tr>\n",
       "    <tr>\n",
       "      <th>5</th>\n",
       "      <td>6</td>\n",
       "      <td>Kiran</td>\n",
       "      <td>Botany</td>\n",
       "    </tr>\n",
       "    <tr>\n",
       "      <th>6</th>\n",
       "      <td>7</td>\n",
       "      <td>Jack</td>\n",
       "      <td>EVS</td>\n",
       "    </tr>\n",
       "  </tbody>\n",
       "</table>\n",
       "</div>"
      ],
      "text/plain": [
       "   id    Name    Subject\n",
       "0   1  Rajesh     Telegu\n",
       "1   2  Ramesh      Tamil\n",
       "2   3   Ricky      Maths\n",
       "3   4     Vim    Physics\n",
       "4   5  Murali  Chemistry\n",
       "5   6   Kiran     Botany\n",
       "6   7    Jack        EVS"
      ]
     },
     "execution_count": 30,
     "metadata": {},
     "output_type": "execute_result"
    }
   ],
   "source": [
    "data_right= {'id':[1,2,3,4,5,6,7],'Name':['Rajesh','Ramesh','Ricky','Vim','Murali','Kiran','Jack'],\n",
    "        'Subject':['Telegu','Tamil','Maths','Physics','Chemistry','Botany','EVS']}\n",
    "df3=pd.DataFrame(data_right)\n",
    "df3"
   ]
  },
  {
   "cell_type": "code",
   "execution_count": 31,
   "id": "4b492038",
   "metadata": {},
   "outputs": [
    {
     "data": {
      "text/html": [
       "<div>\n",
       "<style scoped>\n",
       "    .dataframe tbody tr th:only-of-type {\n",
       "        vertical-align: middle;\n",
       "    }\n",
       "\n",
       "    .dataframe tbody tr th {\n",
       "        vertical-align: top;\n",
       "    }\n",
       "\n",
       "    .dataframe thead th {\n",
       "        text-align: right;\n",
       "    }\n",
       "</style>\n",
       "<table border=\"1\" class=\"dataframe\">\n",
       "  <thead>\n",
       "    <tr style=\"text-align: right;\">\n",
       "      <th></th>\n",
       "      <th>id</th>\n",
       "      <th>Name_x</th>\n",
       "      <th>Subject_x</th>\n",
       "      <th>Name_y</th>\n",
       "      <th>Subject_y</th>\n",
       "    </tr>\n",
       "  </thead>\n",
       "  <tbody>\n",
       "    <tr>\n",
       "      <th>0</th>\n",
       "      <td>1</td>\n",
       "      <td>Tom</td>\n",
       "      <td>CSA</td>\n",
       "      <td>Rajesh</td>\n",
       "      <td>Telegu</td>\n",
       "    </tr>\n",
       "    <tr>\n",
       "      <th>1</th>\n",
       "      <td>2</td>\n",
       "      <td>James</td>\n",
       "      <td>Telegu</td>\n",
       "      <td>Ramesh</td>\n",
       "      <td>Tamil</td>\n",
       "    </tr>\n",
       "    <tr>\n",
       "      <th>2</th>\n",
       "      <td>3</td>\n",
       "      <td>Ricky</td>\n",
       "      <td>Maths</td>\n",
       "      <td>Ricky</td>\n",
       "      <td>Maths</td>\n",
       "    </tr>\n",
       "    <tr>\n",
       "      <th>3</th>\n",
       "      <td>4</td>\n",
       "      <td>Vim</td>\n",
       "      <td>Chemistry</td>\n",
       "      <td>Vim</td>\n",
       "      <td>Physics</td>\n",
       "    </tr>\n",
       "    <tr>\n",
       "      <th>4</th>\n",
       "      <td>5</td>\n",
       "      <td>Steve</td>\n",
       "      <td>Physics</td>\n",
       "      <td>Murali</td>\n",
       "      <td>Chemistry</td>\n",
       "    </tr>\n",
       "    <tr>\n",
       "      <th>5</th>\n",
       "      <td>6</td>\n",
       "      <td>Smith</td>\n",
       "      <td>Botany</td>\n",
       "      <td>Kiran</td>\n",
       "      <td>Botany</td>\n",
       "    </tr>\n",
       "    <tr>\n",
       "      <th>6</th>\n",
       "      <td>7</td>\n",
       "      <td>Jack</td>\n",
       "      <td>zeology</td>\n",
       "      <td>Jack</td>\n",
       "      <td>EVS</td>\n",
       "    </tr>\n",
       "  </tbody>\n",
       "</table>\n",
       "</div>"
      ],
      "text/plain": [
       "   id Name_x  Subject_x  Name_y  Subject_y\n",
       "0   1    Tom        CSA  Rajesh     Telegu\n",
       "1   2  James     Telegu  Ramesh      Tamil\n",
       "2   3  Ricky      Maths   Ricky      Maths\n",
       "3   4    Vim  Chemistry     Vim    Physics\n",
       "4   5  Steve    Physics  Murali  Chemistry\n",
       "5   6  Smith     Botany   Kiran     Botany\n",
       "6   7   Jack    zeology    Jack        EVS"
      ]
     },
     "execution_count": 31,
     "metadata": {},
     "output_type": "execute_result"
    }
   ],
   "source": [
    "pd.merge(df2,df3, on='id')"
   ]
  },
  {
   "cell_type": "code",
   "execution_count": 32,
   "id": "417b0177",
   "metadata": {},
   "outputs": [
    {
     "data": {
      "text/html": [
       "<div>\n",
       "<style scoped>\n",
       "    .dataframe tbody tr th:only-of-type {\n",
       "        vertical-align: middle;\n",
       "    }\n",
       "\n",
       "    .dataframe tbody tr th {\n",
       "        vertical-align: top;\n",
       "    }\n",
       "\n",
       "    .dataframe thead th {\n",
       "        text-align: right;\n",
       "    }\n",
       "</style>\n",
       "<table border=\"1\" class=\"dataframe\">\n",
       "  <thead>\n",
       "    <tr style=\"text-align: right;\">\n",
       "      <th></th>\n",
       "      <th>id</th>\n",
       "      <th>Name</th>\n",
       "      <th>Subject</th>\n",
       "      <th>id</th>\n",
       "      <th>Name</th>\n",
       "      <th>Subject</th>\n",
       "    </tr>\n",
       "  </thead>\n",
       "  <tbody>\n",
       "    <tr>\n",
       "      <th>0</th>\n",
       "      <td>1</td>\n",
       "      <td>Tom</td>\n",
       "      <td>CSA</td>\n",
       "      <td>1</td>\n",
       "      <td>Rajesh</td>\n",
       "      <td>Telegu</td>\n",
       "    </tr>\n",
       "    <tr>\n",
       "      <th>1</th>\n",
       "      <td>2</td>\n",
       "      <td>James</td>\n",
       "      <td>Telegu</td>\n",
       "      <td>2</td>\n",
       "      <td>Ramesh</td>\n",
       "      <td>Tamil</td>\n",
       "    </tr>\n",
       "    <tr>\n",
       "      <th>2</th>\n",
       "      <td>3</td>\n",
       "      <td>Ricky</td>\n",
       "      <td>Maths</td>\n",
       "      <td>3</td>\n",
       "      <td>Ricky</td>\n",
       "      <td>Maths</td>\n",
       "    </tr>\n",
       "    <tr>\n",
       "      <th>3</th>\n",
       "      <td>4</td>\n",
       "      <td>Vim</td>\n",
       "      <td>Chemistry</td>\n",
       "      <td>4</td>\n",
       "      <td>Vim</td>\n",
       "      <td>Physics</td>\n",
       "    </tr>\n",
       "    <tr>\n",
       "      <th>4</th>\n",
       "      <td>5</td>\n",
       "      <td>Steve</td>\n",
       "      <td>Physics</td>\n",
       "      <td>5</td>\n",
       "      <td>Murali</td>\n",
       "      <td>Chemistry</td>\n",
       "    </tr>\n",
       "    <tr>\n",
       "      <th>5</th>\n",
       "      <td>6</td>\n",
       "      <td>Smith</td>\n",
       "      <td>Botany</td>\n",
       "      <td>6</td>\n",
       "      <td>Kiran</td>\n",
       "      <td>Botany</td>\n",
       "    </tr>\n",
       "    <tr>\n",
       "      <th>6</th>\n",
       "      <td>7</td>\n",
       "      <td>Jack</td>\n",
       "      <td>zeology</td>\n",
       "      <td>7</td>\n",
       "      <td>Jack</td>\n",
       "      <td>EVS</td>\n",
       "    </tr>\n",
       "  </tbody>\n",
       "</table>\n",
       "</div>"
      ],
      "text/plain": [
       "   id   Name    Subject  id    Name    Subject\n",
       "0   1    Tom        CSA   1  Rajesh     Telegu\n",
       "1   2  James     Telegu   2  Ramesh      Tamil\n",
       "2   3  Ricky      Maths   3   Ricky      Maths\n",
       "3   4    Vim  Chemistry   4     Vim    Physics\n",
       "4   5  Steve    Physics   5  Murali  Chemistry\n",
       "5   6  Smith     Botany   6   Kiran     Botany\n",
       "6   7   Jack    zeology   7    Jack        EVS"
      ]
     },
     "execution_count": 32,
     "metadata": {},
     "output_type": "execute_result"
    }
   ],
   "source": [
    "pd.concat([df2,df3], axis=1)"
   ]
  },
  {
   "cell_type": "markdown",
   "id": "55f4178c",
   "metadata": {},
   "source": [
    "# 5. What is the difference between list and tuples in Python?\n",
    "      1. List : list is mutable and unordered collection. needs to create extra memory block for adding list\n",
    "      2.tuples: tuples is immutable and ordered collection. fixed memoery since immutable"
   ]
  },
  {
   "cell_type": "code",
   "execution_count": 34,
   "id": "5cfa1114",
   "metadata": {},
   "outputs": [],
   "source": [
    "list = [[1,2,3,4],[1,3,'raj','simbu']]"
   ]
  },
  {
   "cell_type": "code",
   "execution_count": 35,
   "id": "04b617d4",
   "metadata": {},
   "outputs": [
    {
     "data": {
      "text/plain": [
       "[[1, 2, 3, 4], [1, 3, 'raj', 'simbu']]"
      ]
     },
     "execution_count": 35,
     "metadata": {},
     "output_type": "execute_result"
    }
   ],
   "source": [
    "list"
   ]
  },
  {
   "cell_type": "code",
   "execution_count": 40,
   "id": "dc182586",
   "metadata": {},
   "outputs": [],
   "source": [
    "a=10\n",
    "list.insert(0,a)"
   ]
  },
  {
   "cell_type": "code",
   "execution_count": 41,
   "id": "189b1b75",
   "metadata": {},
   "outputs": [
    {
     "data": {
      "text/plain": [
       "[10, [1, 2, 3, 4], [1, 3, 'raj', 'simbu'], 10]"
      ]
     },
     "execution_count": 41,
     "metadata": {},
     "output_type": "execute_result"
    }
   ],
   "source": [
    "list"
   ]
  },
  {
   "cell_type": "code",
   "execution_count": 43,
   "id": "76052537",
   "metadata": {},
   "outputs": [
    {
     "name": "stdout",
     "output_type": "stream",
     "text": [
      "('Rajesh', 'Ramesh', 'nine')\n"
     ]
    }
   ],
   "source": [
    "tuple1 = 'Rajesh','Ramesh', 'nine'\n",
    "print(tuple1)"
   ]
  },
  {
   "cell_type": "markdown",
   "id": "c158ea53",
   "metadata": {},
   "source": [
    "# 6. Find out the mean, median and standard deviation of this numpy array -> np.array([1,5,3,100,4,48])"
   ]
  },
  {
   "cell_type": "code",
   "execution_count": 44,
   "id": "2915550e",
   "metadata": {},
   "outputs": [],
   "source": [
    "Test_npdata =np.array([1,5,3,100,4,48])"
   ]
  },
  {
   "cell_type": "code",
   "execution_count": 47,
   "id": "7a1db85c",
   "metadata": {},
   "outputs": [
    {
     "data": {
      "text/plain": [
       "array([  1,   5,   3, 100,   4,  48])"
      ]
     },
     "execution_count": 47,
     "metadata": {},
     "output_type": "execute_result"
    }
   ],
   "source": [
    "Test_npdata"
   ]
  },
  {
   "cell_type": "code",
   "execution_count": 49,
   "id": "9a99c8bb",
   "metadata": {},
   "outputs": [
    {
     "name": "stdout",
     "output_type": "stream",
     "text": [
      "26.833333333333332\n",
      "4.5\n",
      "36.59424666377065\n"
     ]
    }
   ],
   "source": [
    "print(np.mean(Test_npdata))\n",
    "print(np.median(Test_npdata))\n",
    "print(np.std(Test_npdata))"
   ]
  },
  {
   "cell_type": "markdown",
   "id": "ce5f7b8f",
   "metadata": {},
   "source": [
    "# 7. How will you remove duplicate elements from a list?"
   ]
  },
  {
   "cell_type": "code",
   "execution_count": 50,
   "id": "b18aa726",
   "metadata": {},
   "outputs": [],
   "source": [
    "list1 = [5,6,4,5,5,6,9,10]"
   ]
  },
  {
   "cell_type": "code",
   "execution_count": 53,
   "id": "5e2c7468",
   "metadata": {},
   "outputs": [
    {
     "data": {
      "text/plain": [
       "[5, 6, 4, 5, 5, 6, 9, 10]"
      ]
     },
     "execution_count": 53,
     "metadata": {},
     "output_type": "execute_result"
    }
   ],
   "source": [
    "list1"
   ]
  },
  {
   "cell_type": "code",
   "execution_count": 58,
   "id": "9daa604a",
   "metadata": {},
   "outputs": [
    {
     "name": "stdout",
     "output_type": "stream",
     "text": [
      "The list removed duplicate [5, 6, 4, 9, 10]\n"
     ]
    }
   ],
   "source": [
    "list2 =[]\n",
    "for i in list1:\n",
    "    if i not in list2:\n",
    "        list2.append(i)\n",
    "print('The list removed duplicate',(list2))"
   ]
  },
  {
   "cell_type": "markdown",
   "id": "ea4a1fa5",
   "metadata": {},
   "source": [
    "# 8. What is a map() function in Python? Give an example\n",
    "           map is an anonymnous function . it means function passing a list of parameter it wil compute a list given as result"
   ]
  },
  {
   "cell_type": "code",
   "execution_count": 100,
   "id": "278a4733",
   "metadata": {},
   "outputs": [],
   "source": [
    "def square(x):\n",
    "    return x*x"
   ]
  },
  {
   "cell_type": "code",
   "execution_count": 101,
   "id": "b46ce645",
   "metadata": {},
   "outputs": [],
   "source": [
    "list = [5,6,8,9,10]"
   ]
  },
  {
   "cell_type": "code",
   "execution_count": 102,
   "id": "71bafc93",
   "metadata": {},
   "outputs": [],
   "source": [
    "result = map(square, list)"
   ]
  },
  {
   "cell_type": "code",
   "execution_count": 103,
   "id": "28f8f5f5",
   "metadata": {},
   "outputs": [
    {
     "name": "stdout",
     "output_type": "stream",
     "text": [
      "25\n"
     ]
    }
   ],
   "source": [
    "print(next(result))"
   ]
  },
  {
   "cell_type": "markdown",
   "id": "3258f495",
   "metadata": {},
   "source": [
    "# 9. What is pass in Python?\n",
    "     Pass is keyword we can implement code in later for that function. nothing happens when executed"
   ]
  },
  {
   "cell_type": "code",
   "execution_count": 76,
   "id": "247c4d26",
   "metadata": {
    "scrolled": true
   },
   "outputs": [
    {
     "name": "stdout",
     "output_type": "stream",
     "text": [
      "Rest of the word R\n",
      "Rest of the word a\n",
      "The Name of word pass\n",
      "Rest of the word j\n",
      "Rest of the word e\n",
      "Rest of the word s\n",
      "Rest of the word h\n",
      "Complete code\n"
     ]
    }
   ],
   "source": [
    "for letter in 'Rajesh':\n",
    "    if letter == 'j':\n",
    "        pass\n",
    "        print('The Name of word pass')\n",
    "    print(\"Rest of the word\",letter)\n",
    "print('Complete code')"
   ]
  },
  {
   "cell_type": "markdown",
   "id": "46fab338",
   "metadata": {},
   "source": [
    "# 10. What is vstack() in numpy? Give an example\n",
    "           Append the data vertically for single column. cancatation of array in to column wise\n"
   ]
  },
  {
   "cell_type": "code",
   "execution_count": 78,
   "id": "32b0292a",
   "metadata": {},
   "outputs": [
    {
     "data": {
      "text/plain": [
       "array([[ 1,  2,  3,  4,  5],\n",
       "       [10, 20, 30, 40, 50]])"
      ]
     },
     "execution_count": 78,
     "metadata": {},
     "output_type": "execute_result"
    }
   ],
   "source": [
    "a = np.array([1,2,3,4,5])\n",
    "b = np.array([10,20,30,40,50])\n",
    "np.vstack((a,b))"
   ]
  },
  {
   "cell_type": "code",
   "execution_count": 82,
   "id": "9d95f9be",
   "metadata": {},
   "outputs": [
    {
     "data": {
      "text/plain": [
       "array([[1],\n",
       "       [2],\n",
       "       [3],\n",
       "       [4],\n",
       "       [6],\n",
       "       [7],\n",
       "       [8],\n",
       "       [9]])"
      ]
     },
     "execution_count": 82,
     "metadata": {},
     "output_type": "execute_result"
    }
   ],
   "source": [
    "c = np.array([[1],[2],[3],[4]])\n",
    "d = np.array([[6],[7],[8],[9]])\n",
    "np.vstack((c,d))"
   ]
  },
  {
   "cell_type": "code",
   "execution_count": null,
   "id": "788926eb",
   "metadata": {},
   "outputs": [],
   "source": []
  },
  {
   "cell_type": "code",
   "execution_count": null,
   "id": "b91f88f6",
   "metadata": {},
   "outputs": [],
   "source": []
  }
 ],
 "metadata": {
  "kernelspec": {
   "display_name": "Python 3 (ipykernel)",
   "language": "python",
   "name": "python3"
  },
  "language_info": {
   "codemirror_mode": {
    "name": "ipython",
    "version": 3
   },
   "file_extension": ".py",
   "mimetype": "text/x-python",
   "name": "python",
   "nbconvert_exporter": "python",
   "pygments_lexer": "ipython3",
   "version": "3.9.7"
  }
 },
 "nbformat": 4,
 "nbformat_minor": 5
}
