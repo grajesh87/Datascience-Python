{
 "cells": [
  {
   "cell_type": "code",
   "execution_count": 1,
   "id": "40ab44e1",
   "metadata": {},
   "outputs": [],
   "source": [
    "import math"
   ]
  },
  {
   "cell_type": "markdown",
   "id": "52a7b80d",
   "metadata": {},
   "source": [
    "# 1.Calculator Function\n",
    "    a. Function to find the factorial of a number b. Function to convert degree to Fahrenheit Write a new program in file “maths.py” such that you import functions of the file calc.py to your new program. Use from import statement to import the functions from the calc module"
   ]
  },
  {
   "cell_type": "code",
   "execution_count": 1,
   "id": "44e12524",
   "metadata": {},
   "outputs": [],
   "source": [
    "from calc import factorial\n",
    "from calc import ConvertFtoC"
   ]
  },
  {
   "cell_type": "code",
   "execution_count": 2,
   "id": "1907f2d8",
   "metadata": {
    "scrolled": true
   },
   "outputs": [
    {
     "data": {
      "text/plain": [
       "120"
      ]
     },
     "execution_count": 2,
     "metadata": {},
     "output_type": "execute_result"
    }
   ],
   "source": [
    "factorial(5)"
   ]
  },
  {
   "cell_type": "code",
   "execution_count": 123,
   "id": "d6cd64c1",
   "metadata": {},
   "outputs": [
    {
     "data": {
      "text/plain": [
       "36.66666666666667"
      ]
     },
     "execution_count": 123,
     "metadata": {},
     "output_type": "execute_result"
    }
   ],
   "source": [
    "ConvertFtoC(98)"
   ]
  },
  {
   "cell_type": "code",
   "execution_count": null,
   "id": "484f6c31",
   "metadata": {
    "scrolled": true
   },
   "outputs": [
    {
     "name": "stdout",
     "output_type": "stream",
     "text": [
      "Mathematical Operation\n",
      "1.Additon\n",
      "2.Subtraction\n",
      "3.mutltiply\n",
      "4.division\n",
      "5.remainder\n"
     ]
    }
   ],
   "source": [
    "def Sum(a,b):\n",
    "    return a+b\n",
    "def sub(a,b):\n",
    "    return a-b\n",
    "def multiply(a,b):\n",
    "    return a*b\n",
    "def division(a,b):\n",
    "    return a/b\n",
    "def remainder(a,b):\n",
    "    return a%b\n",
    "print(\"Mathematical Operation\")\n",
    "print('1.Additon')\n",
    "print('2.Subtraction')\n",
    "print('3.mutltiply')\n",
    "print('4.division')\n",
    "print('5.remainder')\n",
    "\n",
    "while True:\n",
    "    choice = input(\"Enter the number (1/2/3/4/5):\")\n",
    "    if choice in ('1','2','3','4','5'):\n",
    "        num1 = float(input(\"Enter the num1 number:\"))\n",
    "        num2 = float(input(\"Enter the num2 number:\"))\n",
    "        \n",
    "    if choice == '1':\n",
    "        print(num1 , \"+\", num2, \"=\" , Sum(num1,num2))\n",
    "        \n",
    "    elif choice == '2':\n",
    "        print(num1 , \"-\", num2, \"=\" , sub(num1,num2))\n",
    "        \n",
    "    elif choice == '3':\n",
    "        print(num1 , \"*\", num2,  \"=\" , multiply(num1,num2))\n",
    "        \n",
    "    elif choice == '4':\n",
    "        print(num1 , \"/\", num2 , \"=\" , division(num1,num2))\n",
    "        \n",
    "    elif choice == '5':\n",
    "        print(num1 , \"%\", num2 , \"=\" , remainder(num1,num2))\n",
    "        \n",
    "    next_calculation = input(\"Let's do next calculation? (yes/no): \")\n",
    "    if next_calculation == \"no\":\n",
    "        break\n",
    "else:\n",
    "    print(\"Invalid Syntax\")\n",
    "          "
   ]
  },
  {
   "cell_type": "code",
   "execution_count": null,
   "id": "3f4182df",
   "metadata": {},
   "outputs": [],
   "source": []
  },
  {
   "cell_type": "code",
   "execution_count": null,
   "id": "e15bc901",
   "metadata": {},
   "outputs": [],
   "source": []
  },
  {
   "cell_type": "markdown",
   "id": "b2f39a68",
   "metadata": {},
   "source": [
    "# 2. Fibnocci Series\n",
    "     \n",
    "    \n",
    "        \n",
    "    "
   ]
  },
  {
   "cell_type": "code",
   "execution_count": 6,
   "id": "e835628a",
   "metadata": {},
   "outputs": [
    {
     "name": "stdout",
     "output_type": "stream",
     "text": [
      "0\n",
      "1\n",
      "1\n",
      "2\n",
      "3\n",
      "Loop terminate\n"
     ]
    }
   ],
   "source": [
    "def fib():\n",
    "    a,b = 0,1\n",
    "    while True:\n",
    "        yield a\n",
    "        a,b = b,a+b\n",
    "funtion1 = fib()\n",
    "\n",
    "for i in range(5):\n",
    "    print(next(funtion1))\n",
    "else:\n",
    "    print(\"Loop terminate\")\n",
    "            \n",
    "    "
   ]
  },
  {
   "cell_type": "markdown",
   "id": "c383bb17",
   "metadata": {},
   "source": [
    "# 3. iterator class to iterate over a sequence of values in the reverse direction"
   ]
  },
  {
   "cell_type": "code",
   "execution_count": 22,
   "id": "1414b4e9",
   "metadata": {},
   "outputs": [],
   "source": [
    "def name(str):\n",
    "    length = len(str)\n",
    "    for i in range(length-1,-1,-1):\n",
    "        yield str[i]"
   ]
  },
  {
   "cell_type": "code",
   "execution_count": 23,
   "id": "8884ed3f",
   "metadata": {},
   "outputs": [],
   "source": [
    "str='Rajesh'\n",
    "myname = name(str)"
   ]
  },
  {
   "cell_type": "code",
   "execution_count": 24,
   "id": "9ab56640",
   "metadata": {
    "scrolled": true
   },
   "outputs": [
    {
     "name": "stdout",
     "output_type": "stream",
     "text": [
      "h\n",
      "s\n",
      "e\n",
      "j\n",
      "a\n",
      "R\n"
     ]
    }
   ],
   "source": [
    "print(next(myname))\n",
    "print(next(myname))\n",
    "print(next(myname))\n",
    "print(next(myname))\n",
    "print(next(myname))\n",
    "print(next(myname))"
   ]
  },
  {
   "cell_type": "markdown",
   "id": "185959ad",
   "metadata": {},
   "source": [
    "#### 4. Write a function “salary” that takes in base pay, HRA and special allowance as arguments and returns the sum of all the 3 salary elements. Then create a decorator function to add an additional element “Tax” (30% of base pay) and assign it back to base pay variable, and return the function (i.e., the final calculation of salary also includes tax)"
   ]
  },
  {
   "cell_type": "code",
   "execution_count": 66,
   "id": "74c7cbd2",
   "metadata": {
    "scrolled": true
   },
   "outputs": [],
   "source": [
    "def employee(func):\n",
    "    def salary1(Basepay,HRA,SA):\n",
    "        func(Basepay,HRA,SA)\n",
    "        print(\"Basic salary:\", Basepay)\n",
    "        print(\"HRA Salary:\",HRA)\n",
    "        print(\"Special Allowance:\",SA)\n",
    "    return salary1\n",
    "                \n",
    "    \n",
    "\n",
    "\n",
    "    \n",
    "    "
   ]
  },
  {
   "cell_type": "code",
   "execution_count": 67,
   "id": "89b0e3b4",
   "metadata": {},
   "outputs": [],
   "source": [
    "@employee\n",
    "def salary(Basepay,HRA,SA):\n",
    "    Basepay = Basepay*0.30\n",
    "    print(\"Netpay:\",Basepay)\n",
    "    Tot_sal = Basepay+HRA+SA\n",
    "    print(\"Total salary:\",Tot_sal)\n",
    "    return\n",
    "\n",
    "\n",
    "\n"
   ]
  },
  {
   "cell_type": "code",
   "execution_count": 68,
   "id": "05e98db6",
   "metadata": {},
   "outputs": [
    {
     "name": "stdout",
     "output_type": "stream",
     "text": [
      "Netpay: 6000.0\n",
      "Total salary: 21000.0\n",
      "Basic salary: 20000\n",
      "HRA Salary: 10000\n",
      "Special Allowance: 5000\n"
     ]
    }
   ],
   "source": [
    "salary(20000,10000,5000)"
   ]
  },
  {
   "cell_type": "markdown",
   "id": "b7e54b7c",
   "metadata": {},
   "source": [
    "### 5. Write 3 examples on possible methods to changing a tuple\n",
    "        1.changing tuple list to tuple\n",
    "        "
   ]
  },
  {
   "cell_type": "code",
   "execution_count": 79,
   "id": "7e41beee",
   "metadata": {},
   "outputs": [],
   "source": [
    "number=(1,2,3,4,[5,6,7,8])"
   ]
  },
  {
   "cell_type": "code",
   "execution_count": 80,
   "id": "a96d1b39",
   "metadata": {},
   "outputs": [
    {
     "data": {
      "text/plain": [
       "tuple"
      ]
     },
     "execution_count": 80,
     "metadata": {},
     "output_type": "execute_result"
    }
   ],
   "source": [
    "type(number)"
   ]
  },
  {
   "cell_type": "code",
   "execution_count": 82,
   "id": "fcfee9e8",
   "metadata": {},
   "outputs": [
    {
     "data": {
      "text/plain": [
       "7"
      ]
     },
     "execution_count": 82,
     "metadata": {},
     "output_type": "execute_result"
    }
   ],
   "source": [
    "number[4][2]"
   ]
  },
  {
   "cell_type": "code",
   "execution_count": 86,
   "id": "8669e111",
   "metadata": {},
   "outputs": [
    {
     "ename": "SyntaxError",
     "evalue": "invalid syntax (Temp/ipykernel_39632/12864710.py, line 1)",
     "output_type": "error",
     "traceback": [
      "\u001b[1;36m  File \u001b[1;32m\"C:\\Users\\RAJESH~1\\AppData\\Local\\Temp/ipykernel_39632/12864710.py\"\u001b[1;36m, line \u001b[1;32m1\u001b[0m\n\u001b[1;33m    string_dict=(\"Rajesh\",456,[\"A\":2,\"B\":5])\u001b[0m\n\u001b[1;37m                                  ^\u001b[0m\n\u001b[1;31mSyntaxError\u001b[0m\u001b[1;31m:\u001b[0m invalid syntax\n"
     ]
    }
   ],
   "source": [
    "# string_dict=(\"Rajesh\",456,[\"A\":2,\"B\":5])"
   ]
  },
  {
   "cell_type": "code",
   "execution_count": 95,
   "id": "fa3a3e9f",
   "metadata": {},
   "outputs": [],
   "source": [
    "tuple1 = ('Rajesh','Ramesh','murali',4568,{'A':5,'B':10})"
   ]
  },
  {
   "cell_type": "code",
   "execution_count": 107,
   "id": "04724c92",
   "metadata": {},
   "outputs": [],
   "source": [
    "a,b,c,d,e =tuple1"
   ]
  },
  {
   "cell_type": "code",
   "execution_count": 108,
   "id": "13d6b837",
   "metadata": {
    "scrolled": true
   },
   "outputs": [
    {
     "name": "stdout",
     "output_type": "stream",
     "text": [
      "Rajesh\n",
      "Ramesh\n",
      "murali\n",
      "4568\n",
      "{'A': 5, 'B': 10}\n"
     ]
    }
   ],
   "source": [
    "print(a)\n",
    "print(b)\n",
    "print(c)\n",
    "print(d)\n",
    "print(e)"
   ]
  },
  {
   "cell_type": "code",
   "execution_count": 104,
   "id": "faeab5ba",
   "metadata": {},
   "outputs": [],
   "source": [
    "languages = ['Python', 'Java', 'JavaScript']"
   ]
  },
  {
   "cell_type": "code",
   "execution_count": 105,
   "id": "49d0ff9e",
   "metadata": {},
   "outputs": [
    {
     "name": "stdout",
     "output_type": "stream",
     "text": [
      "((0, 'Python'), (1, 'Java'), (2, 'JavaScript'))\n"
     ]
    }
   ],
   "source": [
    "enumerate_prime = enumerate(languages)\n",
    "print(list(enumerate_prime))"
   ]
  },
  {
   "cell_type": "code",
   "execution_count": 106,
   "id": "96ad9bd8",
   "metadata": {},
   "outputs": [
    {
     "data": {
      "text/plain": [
       "enumerate"
      ]
     },
     "execution_count": 106,
     "metadata": {},
     "output_type": "execute_result"
    }
   ],
   "source": [
    "type(enumerate_prime)"
   ]
  },
  {
   "cell_type": "code",
   "execution_count": null,
   "id": "fe6a8c8d",
   "metadata": {},
   "outputs": [],
   "source": []
  }
 ],
 "metadata": {
  "kernelspec": {
   "display_name": "Python 3 (ipykernel)",
   "language": "python",
   "name": "python3"
  },
  "language_info": {
   "codemirror_mode": {
    "name": "ipython",
    "version": 3
   },
   "file_extension": ".py",
   "mimetype": "text/x-python",
   "name": "python",
   "nbconvert_exporter": "python",
   "pygments_lexer": "ipython3",
   "version": "3.9.7"
  }
 },
 "nbformat": 4,
 "nbformat_minor": 5
}
